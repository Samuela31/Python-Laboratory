{
  "nbformat": 4,
  "nbformat_minor": 0,
  "metadata": {
    "colab": {
      "provenance": [],
      "authorship_tag": "ABX9TyPGAmfPsYhYV7sRDIfE/3bp",
      "include_colab_link": true
    },
    "kernelspec": {
      "name": "python3",
      "display_name": "Python 3"
    },
    "language_info": {
      "name": "python"
    }
  },
  "cells": [
    {
      "cell_type": "markdown",
      "metadata": {
        "id": "view-in-github",
        "colab_type": "text"
      },
      "source": [
        "<a href=\"https://colab.research.google.com/github/Samuela31/Python-Laboratory/blob/main/Lab%203.ipynb\" target=\"_parent\"><img src=\"https://colab.research.google.com/assets/colab-badge.svg\" alt=\"Open In Colab\"/></a>"
      ]
    },
    {
      "cell_type": "code",
      "execution_count": null,
      "metadata": {
        "colab": {
          "base_uri": "https://localhost:8080/"
        },
        "id": "S3rVOYgYO789",
        "outputId": "18964bea-d9c0-44a8-9338-7b15c9d1bc9a"
      },
      "outputs": [
        {
          "output_type": "stream",
          "name": "stdout",
          "text": [
            "Enter comma separated numbers: 1,2,3,4,5,6,7,8,9,10,-1,-2,-3,-4,-5,-6,-7,-8,-9,10,10,1,1,4\n",
            "['10', '10', '10', '9', '8', '7', '6', '5', '4', '4', '3', '2', '1', '1', '1', '-1', '-2', '-3', '-4', '-5', '-6', '-7', '-8', '-9']\n",
            "Top 10th value:  4\n",
            "Difference between top 10th and top 20th value:  9\n",
            "The median is: 1 1\n",
            "('2', '3', '4', '5', '6', '7', '8', '9', '10', '-1', '-2', '-3', '-4', '-5', '-6', '-7', '-8', '-9', '10', '1', '4')\n"
          ]
        }
      ],
      "source": [
        "n=input(\"Enter comma separated numbers: \")\n",
        "\n",
        "if len(n)<21:\n",
        "  print(\"Enter at least 21 numbers!\")\n",
        "\n",
        "else:\n",
        "  l=list(n.split(','))\n",
        "  t=tuple(n.split(','))\n",
        "\n",
        "  for i in range(0,len(l)):\n",
        "      for j in range(i+1,len(l)):\n",
        "          a,b=int(l[i]),int(l[j])\n",
        "          if a<b :\n",
        "            temp=l[i]\n",
        "            l[i]=l[j]\n",
        "            l[j]=temp\n",
        "\n",
        "  print(l)\n",
        "  print('Top 10th value: ',l[9])\n",
        "  a,b=int(l[9]),int(l[19])\n",
        "  print('Difference between top 10th and top 20th value: ',a-b)\n",
        "\n",
        "  print('The median is: ',end=\"\")\n",
        "  n=len(l)\n",
        "  if n%2==0:\n",
        "    print(l[int(n/2)], l[int(n/2)+1])\n",
        "\n",
        "  else:\n",
        "    print(l[int((1+n)/2)])\n",
        "\n",
        "  li=[]\n",
        "  for i in range(1,len(t)):\n",
        "      if t[i-1]!= t[i] :\n",
        "         li.append(t[i])\n",
        "\n",
        "  del t\n",
        "  t=tuple(li)\n",
        "  print(t)"
      ]
    },
    {
      "cell_type": "code",
      "source": [
        "n=input('Enter string: ')\n",
        "\n",
        "s=list(n)\n",
        "l=list(n)\n",
        "\n",
        "for i in range(1,len(n)):\n",
        "  if s[i]==n[0]:\n",
        "    s[i]='$'\n",
        "\n",
        "print(''.join(s))\n",
        "\n",
        "for i in range(0,len(n)):\n",
        "  for j in range(i+1,len(n)):\n",
        "    if l[i]==l[j]:\n",
        "      l[j]='$'\n",
        "\n",
        "print(l)"
      ],
      "metadata": {
        "colab": {
          "base_uri": "https://localhost:8080/"
        },
        "id": "Pt-FTTNWuTuz",
        "outputId": "f694f2ba-93ff-486f-e1cc-6d8f32864cd3"
      },
      "execution_count": null,
      "outputs": [
        {
          "output_type": "stream",
          "name": "stdout",
          "text": [
            "Enter string: coffee cake\n",
            "coffee $ake\n",
            "['c', 'o', 'f', '$', 'e', '$', ' ', '$', 'a', 'k', '$']\n"
          ]
        }
      ]
    },
    {
      "cell_type": "code",
      "source": [],
      "metadata": {
        "id": "TEJJ9fmh1W6H"
      },
      "execution_count": null,
      "outputs": []
    }
  ]
}