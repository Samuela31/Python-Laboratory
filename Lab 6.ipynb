{
  "nbformat": 4,
  "nbformat_minor": 0,
  "metadata": {
    "colab": {
      "provenance": [],
      "authorship_tag": "ABX9TyN4jeBIqyvOhvwESh6fY+aw",
      "include_colab_link": true
    },
    "kernelspec": {
      "name": "python3",
      "display_name": "Python 3"
    },
    "language_info": {
      "name": "python"
    }
  },
  "cells": [
    {
      "cell_type": "markdown",
      "metadata": {
        "id": "view-in-github",
        "colab_type": "text"
      },
      "source": [
        "<a href=\"https://colab.research.google.com/github/Samuela31/Python-Laboratory/blob/main/Lab%206.ipynb\" target=\"_parent\"><img src=\"https://colab.research.google.com/assets/colab-badge.svg\" alt=\"Open In Colab\"/></a>"
      ]
    },
    {
      "cell_type": "code",
      "execution_count": null,
      "metadata": {
        "colab": {
          "base_uri": "https://localhost:8080/"
        },
        "id": "g-vXEXxNs3B7",
        "outputId": "eed58ba2-70bf-4c9d-e7b1-1f41499f017f"
      },
      "outputs": [
        {
          "output_type": "stream",
          "name": "stdout",
          "text": [
            "hello world\n",
            "this doesn't work\n",
            "it'll be gone soon\n",
            "\n"
          ]
        }
      ],
      "source": [
        "f=open(\"ip.txt\",\"r\")\n",
        "data=f.read()\n",
        "\n",
        "print(data)"
      ]
    },
    {
      "cell_type": "code",
      "source": [
        "f=open(\"ip.txt\",\"r\")\n",
        "\n",
        "n=int(input(\"Enter number of lines to read: \"))\n",
        "\n",
        "for i,line in enumerate(f):\n",
        "  if i>n-1:\n",
        "    break\n",
        "\n",
        "  else:\n",
        "    print(line,i,n) #inside file there is \\n character at end in each line, so extra gap between lines in output"
      ],
      "metadata": {
        "colab": {
          "base_uri": "https://localhost:8080/"
        },
        "id": "jd_0G5Sttnx_",
        "outputId": "8ff1f982-c186-4224-e617-64dbc0492398"
      },
      "execution_count": null,
      "outputs": [
        {
          "output_type": "stream",
          "name": "stdout",
          "text": [
            "Enter number of lines to read: 2\n",
            "hello world\n",
            " 0 2\n",
            "this doesn't work\n",
            " 1 2\n"
          ]
        }
      ]
    },
    {
      "cell_type": "code",
      "source": [
        "f=open(\"ip.txt\",\"r\")\n",
        "\n",
        "n=int(input(\"Enter number of lines to read: \"))\n",
        "\n",
        "for line in (f.readlines() [-n:]):\n",
        "      print(line, end ='')"
      ],
      "metadata": {
        "colab": {
          "base_uri": "https://localhost:8080/"
        },
        "id": "LiVv1wMYwBuf",
        "outputId": "073190da-ccc6-4d4b-9b94-ddbaf82c14b2"
      },
      "execution_count": null,
      "outputs": [
        {
          "output_type": "stream",
          "name": "stdout",
          "text": [
            "Enter number of lines to read: 3\n",
            "this doesn't work\n",
            "it'll be gone soon\n",
            "pancakes \n"
          ]
        }
      ]
    },
    {
      "cell_type": "code",
      "source": [
        "f=open(\"ip.txt\",\"a\")\n",
        "\n",
        "n=input(\"Enter line to append: \")\n",
        "\n",
        "f.write(\"\\n\")\n",
        "f.write(n)\n",
        "\n",
        "f.close()\n",
        "f=open(\"ip.txt\",\"r\")\n",
        "\n",
        "data=f.read()\n",
        "\n",
        "print(data)"
      ],
      "metadata": {
        "colab": {
          "base_uri": "https://localhost:8080/"
        },
        "id": "qeOXYi0Wxapf",
        "outputId": "e6988f6d-a988-49fb-d998-4079c5d4da2d"
      },
      "execution_count": null,
      "outputs": [
        {
          "output_type": "stream",
          "name": "stdout",
          "text": [
            "Enter line to append: Chocomink\n",
            "hello world\n",
            "this doesn't work\n",
            "it'll be gone soon\n",
            "pancakes \n",
            "Happy birthday\n",
            "Ice cake\n",
            "Chocomink\n"
          ]
        }
      ]
    },
    {
      "cell_type": "code",
      "source": [
        "f=open(\"ip.txt\",\"r\")\n",
        "longest=0\n",
        "\n",
        "data=f.read()\n",
        "l=data.split()\n",
        "\n",
        "for i in l:\n",
        "  if longest<len(i):\n",
        "    word=i\n",
        "\n",
        "print(word)"
      ],
      "metadata": {
        "colab": {
          "base_uri": "https://localhost:8080/"
        },
        "id": "Bjd0KcwY0auF",
        "outputId": "2456f82c-9a59-4b59-8d6a-b87cfc73da66"
      },
      "execution_count": null,
      "outputs": [
        {
          "output_type": "stream",
          "name": "stdout",
          "text": [
            "Chocomink\n"
          ]
        }
      ]
    },
    {
      "cell_type": "code",
      "source": [
        "f=open(\"ip.txt\",\"r\")\n",
        "data=f.read()\n",
        "l=data.split()\n",
        "print(len(l))\n"
      ],
      "metadata": {
        "colab": {
          "base_uri": "https://localhost:8080/"
        },
        "id": "rOKViieF1DdP",
        "outputId": "cf0dfcdf-4a13-4539-d4f9-0de4e63b5726"
      },
      "execution_count": null,
      "outputs": [
        {
          "output_type": "stream",
          "name": "stdout",
          "text": [
            "15\n"
          ]
        }
      ]
    },
    {
      "cell_type": "code",
      "source": [
        "import random\n",
        "\n",
        "f=open(\"ip.txt\",\"r\")\n",
        "\n",
        "lines = f.read().splitlines()\n",
        "print(random.choice(lines))"
      ],
      "metadata": {
        "colab": {
          "base_uri": "https://localhost:8080/"
        },
        "id": "2uwubot_1loZ",
        "outputId": "7b1f6c01-68d7-411d-c565-e1f22b046892"
      },
      "execution_count": null,
      "outputs": [
        {
          "output_type": "stream",
          "name": "stdout",
          "text": [
            "Ice cake\n"
          ]
        }
      ]
    },
    {
      "cell_type": "code",
      "source": [
        "f=open(\"ip.txt\",\"r\")\n",
        "fp=open(\"op.txt\",\"r\")\n",
        "\n",
        "l1,l2=[],[]\n",
        "\n",
        "for line in f:\n",
        "  line=line.replace(\"\\n\",\"\")\n",
        "  l1.append(line)\n",
        "\n",
        "for line in fp:\n",
        "  l2.append(line)\n",
        "\n",
        "r=len(l2) if len(l2) < len(l1) else len(l1)\n",
        "\n",
        "for i in range(0,r):\n",
        "  print(l1[i]+\" \"+l2[i])\n"
      ],
      "metadata": {
        "colab": {
          "base_uri": "https://localhost:8080/"
        },
        "id": "ZANsAUoy2bay",
        "outputId": "2e5557ff-7e18-4167-bbad-329b0739d3be"
      },
      "execution_count": null,
      "outputs": [
        {
          "output_type": "stream",
          "name": "stdout",
          "text": [
            "hello world roses are red\n",
            "\n",
            "this doesn't work violets are blue\n",
            "\n",
            "it'll be gone soon i dont know what\n",
            "\n",
            "pancakes  comes after you \n"
          ]
        }
      ]
    },
    {
      "cell_type": "code",
      "source": [
        "f=open(\"ip.txt\",\"r\")\n",
        "data=f.read()\n",
        "\n",
        "fp=open(\"temp.txt\",\"w\")\n",
        "fp.writelines(data)"
      ],
      "metadata": {
        "id": "LVEjZK_i5QVT"
      },
      "execution_count": null,
      "outputs": []
    },
    {
      "cell_type": "code",
      "source": [
        "fp=open(\"temp.txt\",\"w\")\n",
        "\n",
        "l=list(input(\"Enter list elements separated by comma: \").split(','))\n",
        "\n",
        "fp.writelines(\" \".join(l))\n",
        "fp.close()"
      ],
      "metadata": {
        "colab": {
          "base_uri": "https://localhost:8080/"
        },
        "id": "cCnnf3665vhh",
        "outputId": "a758905e-0ca5-474b-94aa-aa99d52b7a0a"
      },
      "execution_count": null,
      "outputs": [
        {
          "name": "stdout",
          "output_type": "stream",
          "text": [
            "Enter list elements separated by comma: hmm,ghj,kkk\n"
          ]
        }
      ]
    },
    {
      "cell_type": "code",
      "source": [
        "f=open(\"ip.txt\",\"r\")\n",
        "data=f.read()\n",
        "l=data.split()\n",
        "d={}\n",
        "\n",
        "for i in l:\n",
        "  if i in d.keys():\n",
        "    d[i]+=1\n",
        "\n",
        "  else:\n",
        "    d[i]=1\n",
        "\n",
        "print(d)\n"
      ],
      "metadata": {
        "colab": {
          "base_uri": "https://localhost:8080/"
        },
        "id": "aOXpPA-q67na",
        "outputId": "e2e3f1fe-bac2-49f2-925d-7547f1d27469"
      },
      "execution_count": null,
      "outputs": [
        {
          "output_type": "stream",
          "name": "stdout",
          "text": [
            "{'hello': 1, 'world': 1, 'this': 1, \"doesn't\": 1, 'work': 1, \"it'll\": 1, 'be': 1, 'gone': 1, 'soon': 1, 'pancakes': 1, 'birthday': 2, 'Happy': 1, 'Ice': 1, 'cake': 1, 'Chocomink': 1}\n"
          ]
        }
      ]
    },
    {
      "cell_type": "code",
      "source": [
        "f=open(\"ip.txt\",\"r\")\n",
        "cnt=0\n",
        "\n",
        "for line in f:\n",
        "  cnt+=1\n",
        "\n",
        "print(cnt)\n"
      ],
      "metadata": {
        "colab": {
          "base_uri": "https://localhost:8080/"
        },
        "id": "6BtEQCIb8hJ6",
        "outputId": "c4cc3706-5018-4855-c0ec-efc264094020"
      },
      "execution_count": null,
      "outputs": [
        {
          "output_type": "stream",
          "name": "stdout",
          "text": [
            "7\n"
          ]
        }
      ]
    },
    {
      "cell_type": "code",
      "source": [
        "f=open(\"ip.txt\",\"r\")\n",
        "l=[]\n",
        "\n",
        "for line in f:\n",
        "  l.append(line)\n",
        "\n",
        "print(l)"
      ],
      "metadata": {
        "colab": {
          "base_uri": "https://localhost:8080/"
        },
        "id": "3SQS6NfM84WS",
        "outputId": "e2910630-bf39-454c-c64a-db660aef09ee"
      },
      "execution_count": null,
      "outputs": [
        {
          "output_type": "stream",
          "name": "stdout",
          "text": [
            "['hello world\\n', \"this doesn't work\\n\", \"it'll be gone soon\\n\", 'pancakes birthday \\n', 'Happy birthday\\n', 'Ice cake\\n', 'Chocomink']\n"
          ]
        }
      ]
    }
  ]
}