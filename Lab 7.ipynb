{
  "nbformat": 4,
  "nbformat_minor": 0,
  "metadata": {
    "colab": {
      "provenance": [],
      "authorship_tag": "ABX9TyNKuadbuqeFpk9FhBMVavhY",
      "include_colab_link": true
    },
    "kernelspec": {
      "name": "python3",
      "display_name": "Python 3"
    },
    "language_info": {
      "name": "python"
    }
  },
  "cells": [
    {
      "cell_type": "markdown",
      "metadata": {
        "id": "view-in-github",
        "colab_type": "text"
      },
      "source": [
        "<a href=\"https://colab.research.google.com/github/Samuela31/Python-Laboratory/blob/main/Lab%207.ipynb\" target=\"_parent\"><img src=\"https://colab.research.google.com/assets/colab-badge.svg\" alt=\"Open In Colab\"/></a>"
      ]
    },
    {
      "cell_type": "code",
      "execution_count": null,
      "metadata": {
        "colab": {
          "base_uri": "https://localhost:8080/"
        },
        "id": "Oxr-VOukkXdG",
        "outputId": "4f6692c3-6a1d-4b99-9e2e-eaffd2a39f17"
      },
      "outputs": [
        {
          "name": "stdout",
          "output_type": "stream",
          "text": [
            "Choose option:\n",
            "1.Deposit\n",
            "2.Withdraw\n",
            "3.Balance enquiry\n",
            "4.Quit\n",
            "\n",
            "Enter choice: 1\n",
            "Enter amount to deposit: df\n",
            "Enter an integer!\n",
            "Choose option:\n",
            "1.Deposit\n",
            "2.Withdraw\n",
            "3.Balance enquiry\n",
            "4.Quit\n",
            "\n",
            "Enter choice: 4\n"
          ]
        }
      ],
      "source": [
        "def balance(r):\n",
        " print('Balance: ',r)\n",
        "\n",
        " return\n",
        "\n",
        "def withdraw(r):\n",
        "   try:\n",
        "    n=int(input('Enter amount to withdraw: '))\n",
        "    r-=n\n",
        "    print('Balance: ',r)\n",
        "\n",
        "   except ValueError:\n",
        "    print(\"Enter an integer!\")\n",
        "\n",
        "   return\n",
        "\n",
        "def deposit(r):\n",
        "  try:\n",
        "    n=int(input('Enter amount to deposit: '))\n",
        "    r+=n   #if put after except block means it'll show error when exception occurs saying n is not taken input yet\n",
        "    print('Balance: ',r)\n",
        "\n",
        "  except ValueError:\n",
        "    print(\"Enter an integer!\")\n",
        "\n",
        "  return\n",
        "\n",
        "i=0\n",
        "d={1:deposit,2:withdraw,3:balance} #dont use quotes inside for keys (func names),otherwise it'll say str is not callable\n",
        "r=15000\n",
        "\n",
        "while i!=4:\n",
        "      print('Choose option:')\n",
        "      print('1.Deposit')\n",
        "      print('2.Withdraw')\n",
        "      print('3.Balance enquiry')\n",
        "      print('4.Quit')\n",
        "      i=int(input('\\nEnter choice: '))\n",
        "\n",
        "      for k,v in d.items():\n",
        "        if i==k:\n",
        "          v(r)\n",
        "          break\n"
      ]
    },
    {
      "cell_type": "code",
      "source": [
        "import sys\n",
        "\n",
        "# total arguments\n",
        "n = len(sys.argv)\n",
        "print(\"Total arguments passed:\", n)\n",
        "\n",
        "# Arguments passed\n",
        "print(\"\\nName of Python script:\", sys.argv[0])\n",
        "\n",
        "print(\"\\nArguments passed:\", end = \" \")\n",
        "for i in range(1, n):\n",
        "    print(sys.argv[i])\n",
        ""
      ],
      "metadata": {
        "colab": {
          "base_uri": "https://localhost:8080/"
        },
        "id": "1JBE_x0srQ8A",
        "outputId": "ea281d08-955a-4b2c-94de-acf1fa3262a3"
      },
      "execution_count": null,
      "outputs": [
        {
          "output_type": "stream",
          "name": "stdout",
          "text": [
            "Total arguments passed: 3\n",
            "\n",
            "Name of Python script: /usr/local/lib/python3.7/dist-packages/ipykernel_launcher.py\n",
            "\n",
            "Arguments passed: -f\n",
            "/root/.local/share/jupyter/runtime/kernel-31310f3a-43b5-44c2-91ba-f3c7e2256734.json\n",
            "\n",
            "\n",
            "Result: 0\n"
          ]
        }
      ]
    },
    {
      "cell_type": "code",
      "source": [
        "import sys\n",
        "\n",
        "print(\"Argument length: \", len(sys.argv))\n",
        "print(\"Argument list :\", list(sys.argv))"
      ],
      "metadata": {
        "colab": {
          "base_uri": "https://localhost:8080/"
        },
        "id": "7yuFz_ZgsqF4",
        "outputId": "ac2f9f12-0ed9-4515-8c32-d98c3d02e819"
      },
      "execution_count": null,
      "outputs": [
        {
          "output_type": "stream",
          "name": "stdout",
          "text": [
            "Argument length:  3\n",
            "Argument list : ['/usr/local/lib/python3.7/dist-packages/ipykernel_launcher.py', '-f', '/root/.local/share/jupyter/runtime/kernel-31310f3a-43b5-44c2-91ba-f3c7e2256734.json']\n"
          ]
        }
      ]
    },
    {
      "cell_type": "code",
      "source": [
        "#3. Program to find the sum of all the members of the list.\n",
        "\n"
      ],
      "metadata": {
        "id": "74w7k9Fntyty"
      },
      "execution_count": null,
      "outputs": []
    },
    {
      "cell_type": "code",
      "source": [
        "# define Python user-defined exceptions\n",
        "class Error(Exception):\n",
        "    \"\"\"Base class for other exceptions\"\"\"\n",
        "    pass\n",
        "\n",
        "\n",
        "class FormulaError(Error):\n",
        "    \"\"\"Custom error\"\"\"\n",
        "    pass\n",
        "\n",
        "n=None\n",
        "\n",
        "while n!='0':\n",
        "    n=input(\"Enter equation with 2 numbers and + or - symbol (Eg: 1+1). Press 0 to quit: \")\n",
        "    if n=='0':\n",
        "      break\n",
        "\n",
        "    op='+' if '+' in n else '-'\n",
        "    l=list(n.split(op))\n",
        "    l.insert(1,op)\n",
        "    l[0]=str(l[0])+str(l[1]) if l[0]=='-' else l[0] #in case first number is negative number. Concatenation doesn't work without str since it's list\n",
        "    #print(l)\n",
        "\n",
        "    try:\n",
        "      if len(l) < 3: #if len(n) is taken and suppose input is 1+23\n",
        "          #print('@')\n",
        "          raise FormulaError\n",
        "\n",
        "      elif l[1] not in '+-': #So use l everywhere (suppose n is 123-9, then n[1] not a sign)\n",
        "          #print('$')\n",
        "          raise FormulaError\n",
        "\n",
        "      else:\n",
        "        try:\n",
        "          a,b=float(l[0]),float(l[2])\n",
        "          print(a+b if l[1]=='+' else a-b)\n",
        "\n",
        "        except ValueError:\n",
        "          #print('&')\n",
        "          raise FormulaError\n",
        "\n",
        "    except FormulaError:\n",
        "            print(\"Invalid input!\")\n"
      ],
      "metadata": {
        "colab": {
          "base_uri": "https://localhost:8080/"
        },
        "id": "Ggrsdu4Tvk_I",
        "outputId": "5f46ac3d-197e-4cd8-9a36-42c1851ecdc0"
      },
      "execution_count": null,
      "outputs": [
        {
          "name": "stdout",
          "output_type": "stream",
          "text": [
            "Enter equation with 2 numbers and + or - symbol (Eg: 1+1). Press 0 to quit: -90+80\n",
            "['-90', '+', '80']\n",
            "-10.0\n",
            "Enter equation with 2 numbers and + or - symbol (Eg: 1+1). Press 0 to quit: 12-8\n",
            "['12', '-', '8']\n",
            "4.0\n",
            "Enter equation with 2 numbers and + or - symbol (Eg: 1+1). Press 0 to quit: 1+90\n",
            "['1', '+', '90']\n",
            "91.0\n",
            "Enter equation with 2 numbers and + or - symbol (Eg: 1+1). Press 0 to quit: 12+90\n",
            "['12', '+', '90']\n",
            "102.0\n",
            "Enter equation with 2 numbers and + or - symbol (Eg: 1+1). Press 0 to quit: 0\n"
          ]
        }
      ]
    },
    {
      "cell_type": "code",
      "source": [
        "import math\n",
        "\n",
        "def getin():\n",
        "  n=input(\"Enter coordinates (x1,y1) and (x2,y2) separated by space: \")\n",
        "  l=list(n.split())\n",
        "\n",
        "  try:\n",
        "    for i in l:\n",
        "      if(not i.isnumeric()): #isnumeric checks is there's number in string. So if int(i) is given it'll show error\n",
        "        raise ValueError\n",
        "\n",
        "  except ValueError:\n",
        "    print(\"Invalid input!\")\n",
        "\n",
        "  else:\n",
        "    x1,y1,x2,y2=int(l[0]),int(l[1]),int(l[2]),int(l[3])\n",
        "    print(\"Distance between points (%d,%d) and (%d,%d) is %.3f\"%(x1,y1,x2,y2,math.sqrt((x1-x2)**2 + (y1-y2)**2)))\n",
        "\n",
        "  finally:\n",
        "    print(\"Program executed successfully\")\n",
        "\n",
        "\n",
        "  return\n",
        "\n",
        "getin()"
      ],
      "metadata": {
        "colab": {
          "base_uri": "https://localhost:8080/"
        },
        "id": "BwiA7EDv4zzX",
        "outputId": "7d947e5e-4c06-40b3-ad18-a41139bd5f59"
      },
      "execution_count": null,
      "outputs": [
        {
          "output_type": "stream",
          "name": "stdout",
          "text": [
            "Enter coordinates (x1,y1) and (x2,y2) separated by space: 1 2 3 4\n",
            "Distance between points (1,2) and (3,4) is 2.828\n",
            "Program executed successfully\n"
          ]
        }
      ]
    }
  ]
}