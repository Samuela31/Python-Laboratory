{
  "nbformat": 4,
  "nbformat_minor": 0,
  "metadata": {
    "colab": {
      "provenance": [],
      "authorship_tag": "ABX9TyNkXHoqOHYG9l7DXKPArIOx",
      "include_colab_link": true
    },
    "kernelspec": {
      "name": "python3",
      "display_name": "Python 3"
    },
    "language_info": {
      "name": "python"
    }
  },
  "cells": [
    {
      "cell_type": "markdown",
      "metadata": {
        "id": "view-in-github",
        "colab_type": "text"
      },
      "source": [
        "<a href=\"https://colab.research.google.com/github/Samuela31/Python-Laboratory/blob/main/Lab%201.ipynb\" target=\"_parent\"><img src=\"https://colab.research.google.com/assets/colab-badge.svg\" alt=\"Open In Colab\"/></a>"
      ]
    },
    {
      "cell_type": "code",
      "execution_count": null,
      "metadata": {
        "colab": {
          "base_uri": "https://localhost:8080/"
        },
        "id": "Z-NU-7NLNhoX",
        "outputId": "45d4fb03-8d29-472a-ef42-4cf1bc21ad61"
      },
      "outputs": [
        {
          "output_type": "stream",
          "name": "stdout",
          "text": [
            "Enter radius: 5\n",
            "Area=  78.5   Perimeter=  31.400000000000002\n"
          ]
        }
      ],
      "source": [
        "\n",
        "r= int(input(\"Enter radius: \"))\n",
        "pi=3.14\n",
        "\n",
        "print(\"Area= \", pi*(r**2), \"  Perimeter= \", 2*pi*r)"
      ]
    },
    {
      "cell_type": "code",
      "source": [
        "l=input(\"Enter the numbers separated by comma :\")\n",
        "num_list = list(l.split(','))\n",
        "\n",
        "t=tuple(num_list)\n",
        "\n",
        "print(num_list)\n",
        "print(t)"
      ],
      "metadata": {
        "colab": {
          "base_uri": "https://localhost:8080/"
        },
        "id": "BOI6OPHkO8W8",
        "outputId": "01bbba93-bbd0-4d40-8bf2-4616ddd46dff"
      },
      "execution_count": null,
      "outputs": [
        {
          "output_type": "stream",
          "name": "stdout",
          "text": [
            "Enter the numbers separated by comma :89,90,-67,9,0\n",
            "['89', '90', '-67', '9', '0']\n",
            "('89', '90', '-67', '9', '0')\n"
          ]
        }
      ]
    },
    {
      "cell_type": "code",
      "source": [
        "name=input(\"Enter file name: \")\n",
        "\n",
        "i=name.rfind('.',0,len(name))\n",
        "\n",
        "print(\"The file extension is: \")\n",
        "for j in range(i+1,len(name)) :\n",
        "        print(name[j],end=\"\")"
      ],
      "metadata": {
        "colab": {
          "base_uri": "https://localhost:8080/"
        },
        "id": "ZEXsgFr5NmxM",
        "outputId": "4431feff-48c1-4994-8796-10bb8c060f1f"
      },
      "execution_count": null,
      "outputs": [
        {
          "output_type": "stream",
          "name": "stdout",
          "text": [
            "Enter file name: text.exe\n",
            "The file extension is: \n",
            "exe"
          ]
        }
      ]
    },
    {
      "cell_type": "code",
      "source": [
        "l=input(\"Enter color names separated by comma :\")\n",
        "c = list(l.split(','))\n",
        "\n",
        "print(c[0],c[-1],sep=\" \")"
      ],
      "metadata": {
        "colab": {
          "base_uri": "https://localhost:8080/"
        },
        "id": "hPnYoJuQPqEs",
        "outputId": "ae67cc4f-b2dc-4e26-e9fa-fd4c7d4f237e"
      },
      "execution_count": null,
      "outputs": [
        {
          "output_type": "stream",
          "name": "stdout",
          "text": [
            "Enter color names separated by comma :cyan,green,pink,blue\n",
            "cyan blue\n"
          ]
        }
      ]
    },
    {
      "cell_type": "code",
      "source": [
        "l=input(\"Enter color names in set 1 separated by comma :\")\n",
        "c1 = set(l.split(','))\n",
        "\n",
        "l=input(\"Enter color names in set 2 separated by comma :\")\n",
        "c2 = set(l.split(','))\n",
        "\n",
        "print(c1 & c2)"
      ],
      "metadata": {
        "colab": {
          "base_uri": "https://localhost:8080/"
        },
        "id": "aGzUWkmbRpCG",
        "outputId": "5354cc91-1cb0-40eb-9c11-025fae42678e"
      },
      "execution_count": null,
      "outputs": [
        {
          "output_type": "stream",
          "name": "stdout",
          "text": [
            "Enter color names in set 1 separated by comma :blue,gold,green,red\n",
            "Enter color names in set 2 separated by comma :cyan,gold,pink,red\n",
            "{'gold', 'red'}\n"
          ]
        }
      ]
    },
    {
      "cell_type": "code",
      "source": [
        "name1=input(\"Enter string: \")\n",
        "\n",
        "name = list(name1)\n",
        "\n",
        "for i in range(0,len(name)):\n",
        "  j=i+1\n",
        "  if j!=(1+len(name))/2 and len(name)%2!=0 :\n",
        "    name[i]=name[i].upper()\n",
        "    #print(i,\" \",name[i])\n",
        "\n",
        "  elif j!=len(name)/2 and j!=(len(name)/2) +1 and len(name)%2==0 :\n",
        "     name[i]=name[i].upper()\n",
        "     #print(j,\" \",name[i])\n",
        "\n",
        "s=\"\"\n",
        "s = s.join(name)\n",
        "print(s )"
      ],
      "metadata": {
        "id": "aggsn_2hVKGF",
        "colab": {
          "base_uri": "https://localhost:8080/"
        },
        "outputId": "da85e621-0088-44f8-afc9-fd6dde56949a"
      },
      "execution_count": null,
      "outputs": [
        {
          "output_type": "stream",
          "name": "stdout",
          "text": [
            "Enter string: samuela\n",
            "SAMuELA\n"
          ]
        }
      ]
    },
    {
      "cell_type": "code",
      "source": [
        "\n",
        "str1=input(\"Enter string 1: \")\n",
        "str2=input(\"Enter string 2: \")\n",
        "\n",
        "print (\"Concatenated string: \",str1+str2,\"\\n\")\n",
        "\n",
        "print(\"string comparison:\")\n",
        "if str1==str2:\n",
        "    print(\"Both strings are same\\n\")\n",
        "\n",
        "else:\n",
        "    print(\"Both strings not same\\n\")\n",
        "\n",
        "print(\"Substring (string 2) found in string 1 at: \")\n",
        "print(str1.index(str2))\n",
        "print()\n",
        "\n",
        "str1=str2\n",
        "\n",
        "print(\"After copying string 2 into string 1: \")\n",
        "print(\"String 1: \",str1,\"  String 2: \",str2)"
      ],
      "metadata": {
        "colab": {
          "base_uri": "https://localhost:8080/"
        },
        "id": "ruk3JojxVSJj",
        "outputId": "bfcefa78-3a90-4bcf-edbf-684b82974ee1"
      },
      "execution_count": null,
      "outputs": [
        {
          "output_type": "stream",
          "name": "stdout",
          "text": [
            "Enter string 1: frozen\n",
            "Enter string 2: fro\n",
            "Concatenated string:  frozenfro \n",
            "\n",
            "string comparison:\n",
            "Both strings not same\n",
            "\n",
            "Substring (string 2) found in string 1 at: \n",
            "0\n",
            "\n",
            "After copying string 2 into string 1: \n",
            "String 1:  fro   String 2:  fro\n"
          ]
        }
      ]
    }
  ]
}