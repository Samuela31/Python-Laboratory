{
  "nbformat": 4,
  "nbformat_minor": 0,
  "metadata": {
    "colab": {
      "provenance": [],
      "authorship_tag": "ABX9TyMotjy+cyAh1p167QGbgSV9",
      "include_colab_link": true
    },
    "kernelspec": {
      "name": "python3",
      "display_name": "Python 3"
    },
    "language_info": {
      "name": "python"
    }
  },
  "cells": [
    {
      "cell_type": "markdown",
      "metadata": {
        "id": "view-in-github",
        "colab_type": "text"
      },
      "source": [
        "<a href=\"https://colab.research.google.com/github/Samuela31/Python-Laboratory/blob/main/Lab%204.ipynb\" target=\"_parent\"><img src=\"https://colab.research.google.com/assets/colab-badge.svg\" alt=\"Open In Colab\"/></a>"
      ]
    },
    {
      "cell_type": "code",
      "execution_count": null,
      "metadata": {
        "colab": {
          "base_uri": "https://localhost:8080/"
        },
        "id": "6EKNJp5lp034",
        "outputId": "c56ab54f-8b59-4bc3-c519-ce8649ccfa5f"
      },
      "outputs": [
        {
          "output_type": "stream",
          "name": "stdout",
          "text": [
            "Sum of all items:  3510\n"
          ]
        }
      ],
      "source": [
        "d={'a':10, 'b':20, 'c':30, 'd':40, 'e':50, 'f':60,'g':70,'h':80,'i':90,'j':100,'k':110,'l':120,'m':130,'n':140,'o':150,'p':160,'q':170,'r':180,'s':190,'t':200,'u':210,'v':220,'w':230,'x':240,'y':250,'z':260}\n",
        "sum=0\n",
        "\n",
        "for i in d.values():\n",
        "  sum+=i\n",
        "\n",
        "print('Sum of all items: ',sum)"
      ]
    },
    {
      "cell_type": "code",
      "source": [
        "d={'a':10, 'b':20, 'c':30, 'd':40, 'e':50, 'f':60,'g':70,'h':80,'i':90,'j':100,'k':110,'l':120,'m':130,'n':140,'o':150,'p':160,'q':170,'r':180,'s':190,'t':200,'u':210,'v':220,'w':230,'x':240,'y':250,'z':260}\n",
        "v,c,j, sum=0,0,0, 0\n",
        "\n",
        "l=list(d.keys())\n",
        "\n",
        "vowels='aeiou'\n",
        "\n",
        "for i in d.values():\n",
        "  sum+=i\n",
        "  if l[j] in vowels:\n",
        "    v+=i\n",
        "\n",
        "  else:\n",
        "    c+=i\n",
        "  j+=1\n",
        "\n",
        "print('Sum of all vowels: ',v)\n",
        "print('Sum of all consonants: ',c)\n",
        "print(sum)"
      ],
      "metadata": {
        "colab": {
          "base_uri": "https://localhost:8080/"
        },
        "id": "Bnnehh2NreVL",
        "outputId": "e6ed8e37-cf58-421e-e23d-2c5910b4f4d9"
      },
      "execution_count": null,
      "outputs": [
        {
          "output_type": "stream",
          "name": "stdout",
          "text": [
            "Sum of all vowels:  510\n",
            "Sum of all consonants:  3000\n",
            "3510\n"
          ]
        }
      ]
    },
    {
      "cell_type": "code",
      "source": [
        "d={'a':10, 'b':20, 'c':30, 'd':40, 'e':50, 'f':60,'g':70,'h':80,'i':90,'j':100,'k':110,'l':120,'m':130,'n':140,'o':150,'p':160,'q':170,'r':180,'s':190,'t':200,'u':210,'v':220,'w':230,'x':240,'y':250,'z':260}\n",
        "v,c,j=0,0,0\n",
        "\n",
        "l=list(d.keys())\n",
        "\n",
        "vowels='aeiou'\n",
        "\n",
        "for i in d.values():\n",
        "  if l[j] in vowels:\n",
        "    v+=i\n",
        "\n",
        "  else:\n",
        "    c+=i\n",
        "  j+=1\n",
        "\n",
        "print('Sum of all vowels: ',v)\n",
        "print('Sum of all consonants: ',c)"
      ],
      "metadata": {
        "id": "MtRUP89szvDL",
        "colab": {
          "base_uri": "https://localhost:8080/"
        },
        "outputId": "dceeb6a0-0668-48d4-c734-767ca68e4ea8"
      },
      "execution_count": null,
      "outputs": [
        {
          "output_type": "stream",
          "name": "stdout",
          "text": [
            "Sum of all vowels:  510\n",
            "Sum of all consonants:  3000\n"
          ]
        }
      ]
    },
    {
      "cell_type": "code",
      "source": [
        "def ds(diction):\n",
        "  sum=0\n",
        "\n",
        "  for i in d.values():\n",
        "      sum+=i\n",
        "\n",
        "  return sum\n",
        "\n",
        "d={'a':10, 'b':20, 'c':30, 'd':40, 'e':50, 'f':60,'g':70,'h':80,'i':90,'j':100,'k':110,'l':120,'m':130,'n':140,'o':150,'p':160,'q':170,'r':180,'s':190,'t':200,'u':210,'v':220,'w':230,'x':240,'y':250,'z':260}\n",
        "\n",
        "a=ds(d)\n",
        "print(a)\n"
      ],
      "metadata": {
        "id": "1dLRdQ1Mr07p",
        "colab": {
          "base_uri": "https://localhost:8080/"
        },
        "outputId": "1bbf2960-a14e-4508-d219-7a228692693f"
      },
      "execution_count": null,
      "outputs": [
        {
          "output_type": "stream",
          "name": "stdout",
          "text": [
            "3510\n"
          ]
        }
      ]
    },
    {
      "cell_type": "code",
      "source": [
        "d={'a':'#', 'b':'@', 'c':'%', 'd':'^', 'e':'&', 'f':'*','g':'~','h':'``','i':'|','j':'+', 'k':'-','l':'/' ,'m':'?','n':'$','o':'<','p':'>','q':'1','r':'2','s':'3','t': '4','u':'5','v':'6','w':'7','x':'8','y': '9','z':'0' }\n",
        "\n",
        "s1=input('Enter message: ')\n",
        "s2=input('Enter cryptic message: ')\n",
        "\n",
        "n1=[]\n",
        "n2=[]\n",
        "\n",
        "for i in range(0,len(s1)):\n",
        "  a=s1[i]\n",
        "  if a in d.keys():\n",
        "    x=d.get(a)\n",
        "    n1.append(x)\n",
        "\n",
        "  else:\n",
        "    n1.append(a)\n",
        "\n",
        "print('Cryptic message: ',''.join(n1))\n",
        "\n",
        "for i in range(0,len(s2)):\n",
        "  a=s2[i]\n",
        "  for key, val in d.items():\n",
        "      if a == val:\n",
        "         x= key\n",
        "        # print(a,x)\n",
        "         n2.append(x)\n",
        "         break\n",
        "\n",
        "  else:\n",
        "      n2.append(a)\n",
        "\n",
        "print('Decrypted message: ',''.join(n2))\n"
      ],
      "metadata": {
        "colab": {
          "base_uri": "https://localhost:8080/"
        },
        "id": "0q_y82lChW9b",
        "outputId": "a1661ba5-65c9-4df6-fa85-92c5b82a79fe"
      },
      "execution_count": null,
      "outputs": [
        {
          "output_type": "stream",
          "name": "stdout",
          "text": [
            "Enter message: samuEla\n",
            "Enter cryptic message: $%#}\n",
            "Cryptic message:  3#?5E/#\n",
            "Decrypted message:  nca}\n"
          ]
        }
      ]
    },
    {
      "cell_type": "code",
      "source": [
        "#LOOK BELOW, DON'T COPY THIS CODE\n",
        "d={}\n",
        "city=input('Enter city name: ')\n",
        "d.update({'city':city})\n",
        "\n",
        "temp=input('Enter temperature: ')\n",
        "d.update({'temperature':temp})\n",
        "\n",
        "population=input('Enter population: ')\n",
        "d.update({'population':population})\n",
        "\n",
        "pin=input('Enter PIN code: ')\n",
        "d.update({'PIN':pin})\n",
        "\n",
        "cname=input('Enter city name to find: ')\n",
        "for key,val in d.items():\n",
        "  if val==cname:\n",
        "    print('City name: ',cname)\n",
        "    print('Temperature: ',d.get('temperature'))\n",
        "    print('Population: ',d.get('population'))\n",
        "    print('PIN: ',d.get('PIN'))\n",
        "\n",
        "\n"
      ],
      "metadata": {
        "id": "S75f7RfV3KVE",
        "colab": {
          "base_uri": "https://localhost:8080/"
        },
        "outputId": "44fb2b8d-20a7-432b-84a1-11cbde57de62"
      },
      "execution_count": null,
      "outputs": [
        {
          "output_type": "stream",
          "name": "stdout",
          "text": [
            "Enter city name: Chennai\n",
            "Enter temperature: 41.08\n",
            "Enter population: 30089\n",
            "Enter PIN code: 600062\n",
            "Enter city name to find: Chennai\n",
            "City name:  Chennai\n",
            "Temperature:  41.08\n",
            "Population:  30089\n",
            "PIN:  600062\n"
          ]
        }
      ]
    },
    {
      "cell_type": "code",
      "source": [
        "d={'Mumbai':['Mumbai',27.67,56789,567895],'Delhi':['Delhi',11,3450,111009],'Hyderabad':['Hyderabad',23.45,24567,982018]}\n",
        "city=input('Enter city name: ')\n",
        "temp=input('Enter temperature: ')\n",
        "population=input('Enter population: ')\n",
        "pin=input('Enter PIN code: ')\n",
        "\n",
        "d.update({city:[city,temp,population,pin]})\n",
        "\n",
        "cname=input('Enter city name to find: ')\n",
        "for key,val in d.items():\n",
        "  if key==cname:\n",
        "    l=list(val)\n",
        "    print('City name: ',l[0])\n",
        "    print('Temperature: ',l[1])\n",
        "    print('Population: ',l[2])\n",
        "    print('PIN: ',l[3])\n",
        "\n"
      ],
      "metadata": {
        "colab": {
          "base_uri": "https://localhost:8080/"
        },
        "id": "qR_cjIi9Mz78",
        "outputId": "56ecd3e7-3921-44bd-db0a-acb12b56c7a6"
      },
      "execution_count": null,
      "outputs": [
        {
          "output_type": "stream",
          "name": "stdout",
          "text": [
            "Enter city name: Chennai\n",
            "Enter temperature: 41.49\n",
            "Enter population: 345678\n",
            "Enter PIN code: 60062\n",
            "Enter city name to find: Delhi\n",
            "City name:  Delhi\n",
            "Temperature:  11\n",
            "Population:  3450\n",
            "PIN:  111009\n"
          ]
        }
      ]
    }
  ]
}