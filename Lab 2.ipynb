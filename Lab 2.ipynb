{
  "nbformat": 4,
  "nbformat_minor": 0,
  "metadata": {
    "colab": {
      "provenance": [],
      "authorship_tag": "ABX9TyMko6bxrWI2eDO8z7LI/IVs",
      "include_colab_link": true
    },
    "kernelspec": {
      "name": "python3",
      "display_name": "Python 3"
    },
    "language_info": {
      "name": "python"
    }
  },
  "cells": [
    {
      "cell_type": "markdown",
      "metadata": {
        "id": "view-in-github",
        "colab_type": "text"
      },
      "source": [
        "<a href=\"https://colab.research.google.com/github/Samuela31/Python-Laboratory/blob/main/Lab%202.ipynb\" target=\"_parent\"><img src=\"https://colab.research.google.com/assets/colab-badge.svg\" alt=\"Open In Colab\"/></a>"
      ]
    },
    {
      "cell_type": "code",
      "execution_count": null,
      "metadata": {
        "colab": {
          "base_uri": "https://localhost:8080/"
        },
        "id": "-1QxfJ43ZGKf",
        "outputId": "312e03ea-143a-4b90-a096-1d2c4e17f83c"
      },
      "outputs": [
        {
          "output_type": "stream",
          "name": "stdout",
          "text": [
            "Enter list elemets separated by commas: hi,kk,jk,ljh\n",
            "ljh\n",
            "jk\n",
            "kk\n",
            "hi\n"
          ]
        }
      ],
      "source": [
        "li =input(\"Enter list elemets separated by commas: \")\n",
        "\n",
        "l=list(li.split(','))\n",
        "\n",
        "for i in range(0,len(l)):\n",
        "    print(l[len(l)-i-1])\n",
        ""
      ]
    },
    {
      "cell_type": "code",
      "source": [
        "setk=['joy','god','hi','dog','yoj']\n",
        "seti=[]\n",
        "\n",
        "for i in range(0,len(setk)) :\n",
        "  string=setk[i]\n",
        "  rev=\"\".join(reversed(string))\n",
        "\n",
        "  for j in range(i,len(setk)):\n",
        "    if rev==setk[j] and j!=i:\n",
        "      seti.append(string)\n",
        "      seti.append(rev)\n",
        "\n",
        "print(seti)"
      ],
      "metadata": {
        "colab": {
          "base_uri": "https://localhost:8080/"
        },
        "id": "pS9onDydbPDS",
        "outputId": "6a72704a-2fc8-42a9-b41b-ee7315162288"
      },
      "execution_count": null,
      "outputs": [
        {
          "output_type": "stream",
          "name": "stdout",
          "text": [
            "['joy', 'yoj', 'god', 'dog']\n"
          ]
        }
      ]
    },
    {
      "cell_type": "code",
      "source": [
        "string=input(\"Enter string: \")\n",
        "sub=input(\"Enter substring: \")\n",
        "\n",
        "flag=0\n",
        "\n",
        "for i in range(0,len(string)):\n",
        "  if flag==1:\n",
        "    break\n",
        "\n",
        "  if sub[0]==string[i]:\n",
        "    count=0\n",
        "\n",
        "    for j in range(0,len(sub)):\n",
        "      if sub[j]!=string[i+j]:\n",
        "        break\n",
        "\n",
        "      else:\n",
        "        count+=1\n",
        "        if count==len(sub):\n",
        "          flag=1\n",
        "          print(\"Substring\")\n",
        "          print(\"Position at: \",i)\n",
        "          break\n",
        "\n",
        "if flag==0:\n",
        "  print(\"Not substring\")\n",
        ""
      ],
      "metadata": {
        "colab": {
          "base_uri": "https://localhost:8080/"
        },
        "id": "Y8nHE75qfOXE",
        "outputId": "2eaab584-f5f0-4cb9-e255-9a1dff807126"
      },
      "execution_count": null,
      "outputs": [
        {
          "output_type": "stream",
          "name": "stdout",
          "text": [
            "Enter string: frozen\n",
            "Enter substring: zen\n",
            "Substring\n",
            "Position at:  3\n"
          ]
        }
      ]
    },
    {
      "cell_type": "code",
      "source": [
        "num=input(\"Enter num sequence separated by commas: \")\n",
        "\n",
        "n=list(num.split(','))\n",
        "test=[]\n",
        "max=0\n",
        "\n",
        "print(\"The increasing sequeces are: \")\n",
        "for i in range(0,len(n)):\n",
        "  count=0\n",
        "  flag=0\n",
        "  posi=0\n",
        "\n",
        "  for j in range(i,len(n)-1):\n",
        "    a=int(n[j]) #if I dont convert to int then it acts like str and checks ascii ig\n",
        "    b=int(n[j+1])\n",
        "    if a<b and flag==0:\n",
        "      test.append(n[j])\n",
        "      test.append(n[j+1])\n",
        "      posi=1\n",
        "      print(test[0],test[1],end=\" \")\n",
        "      count=2\n",
        "      flag=1\n",
        "\n",
        "    elif posi>=1 and flag==1:\n",
        "      c=int(test[posi])\n",
        "      d=int(n[j])\n",
        "      if c<d :\n",
        "        test.append(n[j])\n",
        "        posi+=1\n",
        "        print(test[posi],end=\" \")\n",
        "        count+=1\n",
        "\n",
        "    else:\n",
        "       break #otherwise it's repeatedly printing same sequence\n",
        "\n",
        "  #print(\"\\n\",'#',count,' &',max, ' $',posi, ' *',j)\n",
        "  print()\n",
        "  test.clear()\n",
        "  if max<count:\n",
        "    max=count\n",
        "    pos=i\n",
        "\n",
        "print(\"The longest increasing sequence is: \",pos,\"th sequence\")"
      ],
      "metadata": {
        "colab": {
          "base_uri": "https://localhost:8080/"
        },
        "id": "r2yZCc7thBUy",
        "outputId": "1f2e68aa-04d2-4b7d-a2bf-de63f7f1e73b"
      },
      "execution_count": null,
      "outputs": [
        {
          "output_type": "stream",
          "name": "stdout",
          "text": [
            "Enter num sequence separated by commas: -90,67,34,78,0,23\n",
            "The increasing sequeces are: \n",
            "-90 67 78 \n",
            "\n",
            "34 78 \n",
            "\n",
            "0 23 \n",
            "\n",
            "The longest increasing sequence is:  0 th sequence\n"
          ]
        }
      ]
    }
  ]
}